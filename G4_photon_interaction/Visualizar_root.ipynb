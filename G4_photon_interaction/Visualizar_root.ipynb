{
 "cells": [
  {
   "cell_type": "markdown",
   "metadata": {},
   "source": [
    "# El visualizador de root files"
   ]
  },
  {
   "cell_type": "code",
   "execution_count": 2,
   "metadata": {},
   "outputs": [
    {
     "name": "stdout",
     "output_type": "stream",
     "text": [
      "Collecting package metadata (current_repodata.json): / WARNING conda.models.version:get_matcher(546): Using .* with relational operator is superfluous and deprecated and will be removed in a future version of conda. Your spec was 1.7.1.*, but conda is ignoring the .* and treating it as 1.7.1\n",
      "done\n",
      "Solving environment: failed with initial frozen solve. Retrying with flexible solve.\n",
      "Solving environment: - "
     ]
    }
   ],
   "source": [
    "conda install -c conda-forge root\n"
   ]
  },
  {
   "cell_type": "markdown",
   "metadata": {},
   "source": [
    "## Merge Root Files"
   ]
  },
  {
   "cell_type": "code",
   "execution_count": 1,
   "metadata": {},
   "outputs": [
    {
     "ename": "ModuleNotFoundError",
     "evalue": "No module named 'ROOT'",
     "output_type": "error",
     "traceback": [
      "\u001b[0;31m---------------------------------------------------------------------------\u001b[0m",
      "\u001b[0;31mModuleNotFoundError\u001b[0m                       Traceback (most recent call last)",
      "Cell \u001b[0;32mIn[1], line 1\u001b[0m\n\u001b[0;32m----> 1\u001b[0m \u001b[38;5;28;01mimport\u001b[39;00m \u001b[38;5;21;01mROOT\u001b[39;00m\n",
      "\u001b[0;31mModuleNotFoundError\u001b[0m: No module named 'ROOT'"
     ]
    }
   ],
   "source": [
    "import ROOT\n",
    "import os\n",
    "\n",
    "def merge_files(directory, starts_with, output_name):\n",
    "\n",
    "    for file in os.listdir(directory):\n",
    "        \n",
    "        if file.endswith('.root') and not file.startswith('merge'):\n",
    "            if not starts_with == '':\n",
    "                if file.startswith(starts_with):\n",
    "                    file_list = [os.path.join(directory, file)]\n",
    "            else:\n",
    "                file_list = [os.path.join(directory, file)]\n",
    "    \n",
    "    merged_file = os.path.join(directory, output_name)\n",
    "    counter = 0\n",
    "    while True:\n",
    "        if not os.path.exists(f\"{merged_file}{counter}.root\"):\n",
    "            merged_file = f\"{merged_file}{counter}.root\"\n",
    "            break\n",
    "        counter = counter + 1\n",
    "\n",
    "    merger = ROOT.TFileMerger()\n",
    "    merger.OutputFile(merged_file)\n",
    "    \n",
    "    for i in file_list:\n",
    "        merger.AddFile(i)\n",
    "    merger.Merge()\n",
    "\n",
    "    print(\"Merged files into\", merged_file)"
   ]
  },
  {
   "cell_type": "code",
   "execution_count": null,
   "metadata": {},
   "outputs": [],
   "source": [
    "directory = 'build/root'\n",
    "starts_with = 'root'\n",
    "output_name = 'merged'\n",
    "\n",
    "merge_files(directory, starts_with, output_name)"
   ]
  },
  {
   "cell_type": "markdown",
   "metadata": {},
   "source": [
    "## Draw Graph from Merge.root"
   ]
  },
  {
   "cell_type": "code",
   "execution_count": null,
   "metadata": {},
   "outputs": [],
   "source": [
    "import ROOT\n",
    "import os\n",
    "\n",
    "def scatterplot_from_root(directory, input_file, tree_name, x_branch, y_branch, title, x_label, y_label, output_image):\n",
    "\n",
    "    input_file = os.path.join(directory, input_file)\n",
    "    \n",
    "    file = ROOT.TFile(input_file, \"READ\")\n",
    "    tree = file.Get(tree_name)\n",
    "    \n",
    "    canvas = ROOT.TCanvas(\"canvas\", \"X vs Y Scatter Plot\", 800, 600)\n",
    "    graph = ROOT.TGraph()\n",
    "    \n",
    "    points = []\n",
    "    for event in tree:\n",
    "        x = getattr(event, x_branch)\n",
    "        y = getattr(event, y_branch)\n",
    "        points.append((x, y))\n",
    "\n",
    "    # Sort points based on x-values\n",
    "    points.sort(key=lambda p: p[0])\n",
    "\n",
    "    # Create a TGraph and add sorted points\n",
    "    graph = ROOT.TGraph()\n",
    "    for i, (x, y) in enumerate(points):\n",
    "        graph.SetPoint(i, x, y)\n",
    "\n",
    "    graph.SetTitle(title)\n",
    "    graph.GetXaxis().SetTitle(x_label)\n",
    "    graph.GetYaxis().SetTitle(y_label)\n",
    "\n",
    "    graph.SetMarkerStyle(20)  # Circular marker\n",
    "    graph.SetMarkerSize(0.4)\n",
    "    graph.SetLineColor(ROOT.kBlue)\n",
    "    graph.SetLineWidth(2)\n",
    "\n",
    "    graph.Draw(\"AP\")  # \"A\" for axes, \"P\" for points, \"L\" for line\n",
    "    ROOT.gStyle.SetImageScaling(2.0)\n",
    "    canvas.SaveAs(output_image + '.jpg')\n",
    "    file.Close()\n",
    "    print(' ===== Scatter plot saved as', output_image, '=======')"
   ]
  },
  {
   "cell_type": "code",
   "execution_count": null,
   "metadata": {},
   "outputs": [],
   "source": [
    "directory = 'build/root'\n",
    "file_name = 'merged4.root'\n",
    "\n",
    "tree_name = \"Photons\"\n",
    "x_branch = \"X_axis\"\n",
    "y_branch = \"Y_axis\"\n",
    "\n",
    "title = \"title\"\n",
    "x_label = \"x axis\"\n",
    "y_label = \"y axis\"\n",
    "\n",
    "output_image = \"xy_plot\"\n",
    "\n",
    "scatterplot_from_root(directory, file_name, tree_name, x_branch, y_branch, title, x_label, y_label, output_image)"
   ]
  },
  {
   "cell_type": "markdown",
   "metadata": {},
   "source": [
    "## Extraer .root -> Archivo CSV"
   ]
  },
  {
   "cell_type": "code",
   "execution_count": null,
   "metadata": {},
   "outputs": [],
   "source": [
    "import ROOT\n",
    "import os\n",
    "import csv\n",
    "\n",
    "def copy_data_csv(directory, root_name_starts, tree_name, x_branch, y_branch, z_branch, csv_save_as):\n",
    "\n",
    "    csv_file  = os.path.join(directory, csv_save_as)\n",
    "    \n",
    "    with open(csv_file, 'w', newline='') as file:\n",
    "\n",
    "        writer = csv.writer(file)\n",
    "        writer.writerow(['File', tree_name, x_branch, y_branch, z_branch])\n",
    "        \n",
    "        for file_name in sorted(os.listdir(directory)):\n",
    "            if file_name.endswith('.root') and file_name.startswith(root_name_starts):\n",
    "\n",
    "                file_path = os.path.join(directory, file_name)\n",
    "\n",
    "                try:\n",
    "                    \n",
    "                    root_file = ROOT.TFile(file_path)\n",
    "\n",
    "                    tree = root_file.Get(tree_name)\n",
    "                    if not tree:\n",
    "                        print(f\"Tree '{tree_name}' not found in {file_path}\")\n",
    "                        continue\n",
    "\n",
    "                    branch1 = tree.GetBranch(x_branch)\n",
    "                    if not branch1:\n",
    "                        print(f\"Branch1 '{x_branch}' not found in tree '{tree_name}' in {file_path}\")\n",
    "                        continue\n",
    "\n",
    "                    branch2 = tree.GetBranch(y_branch)\n",
    "                    if not branch2:\n",
    "                        print(f\"Branch2 '{y_branch}' not found in tree '{tree_name}' in {file_path}\")\n",
    "\n",
    "                    branch3 = tree.GetBranch(z_branch)\n",
    "                    if not branch3:\n",
    "                        print(f\"Branch3 '{z_branch}' not found in tree '{tree_name}' in {file_path}\")\n",
    "\n",
    "                    # if not branch3:\n",
    "                    #     if not branch2:\n",
    "                    #         writer.writerow([file_name, tree_name, x_branch])\n",
    "                    #     else:\n",
    "                    #         writer.writerow([file_name, tree_name, x_branch, y_branch])\n",
    "                    # else:\n",
    "                    #     writer.writerow([file_name, tree_name, x_branch, y_branch, z_branch])\n",
    "\n",
    "\n",
    "                    entries1 = branch1.GetEntries()\n",
    "                    print('Número de entradas:', entries1)\n",
    "\n",
    "                    for entry in range(entries1):\n",
    "                        \n",
    "                        tree.GetEntry(entry)\n",
    "                        value1 = getattr(tree, x_branch)\n",
    "\n",
    "                        if not branch3:\n",
    "                            if not branch2:\n",
    "                                writer.writerow([file_name, tree_name, value1])\n",
    "                            else:\n",
    "                                value2 = getattr(tree, y_branch)\n",
    "                                writer.writerow([file_name, tree_name, value1, value2])\n",
    "                        else:\n",
    "                            value2 = getattr(tree, y_branch)\n",
    "                            value3 = getattr(tree, z_branch)\n",
    "                            writer.writerow([file_name, tree_name, value1, value2, value3])\n",
    "                        \n",
    "                    root_file.Close()\n",
    "\n",
    "                except Exception as e:\n",
    "                    print(f\"Error procesando {file_path}: {e}\")\n",
    "                \n",
    "    print('CSV file created as:', csv_file)"
   ]
  },
  {
   "cell_type": "code",
   "execution_count": null,
   "metadata": {},
   "outputs": [],
   "source": [
    "directory = 'build/root/'\n",
    "root_name_starts = \"merged4\"\n",
    "\n",
    "tree_name = \"Photons\"\n",
    "x_branch  = \"X_axis\"\n",
    "y_branch  = \"Y_axis\"\n",
    "z_branch  = \"z_branch\"\n",
    "\n",
    "csv_save_as = 'test2' + '.csv'\n",
    "\n",
    "copy_data_csv(directory, root_name_starts, tree_name, x_branch, y_branch, z_branch, csv_save_as)"
   ]
  },
  {
   "cell_type": "markdown",
   "metadata": {},
   "source": [
    "## Plot CSV (X axis vs. Y axis)"
   ]
  },
  {
   "cell_type": "code",
   "execution_count": null,
   "metadata": {},
   "outputs": [],
   "source": [
    "import pandas as pd\n",
    "import matplotlib.pyplot as plt\n",
    "import os\n",
    "\n",
    "def plot_xy(directory, csv_name, x_branch, y_branch, title, x_label, y_label):\n",
    "\n",
    "    csv_file = os.path.join(directory, csv_name)\n",
    "    df = pd.read_csv(csv_file)\n",
    "\n",
    "    x = df[x_branch]\n",
    "    y = df[y_branch]\n",
    "\n",
    "    SIZE_DEFAULT = 14\n",
    "    SIZE_LARGE = 20\n",
    "\n",
    "    plt.rc(\"font\", family = 'Century Expanded')  \n",
    "    plt.rc(\"font\", weight = \"normal\")  \n",
    "    plt.rc(\"font\",  size      = SIZE_DEFAULT)  \n",
    "    plt.rc(\"axes\",  titlesize = SIZE_LARGE + 2)  \n",
    "    plt.rc(\"axes\",  labelsize = SIZE_LARGE)  \n",
    "    plt.rc(\"xtick\", labelsize = SIZE_DEFAULT)  \n",
    "    plt.rc(\"ytick\", labelsize = SIZE_DEFAULT)  \n",
    "\n",
    "    plt.figure(figsize = (10, 6))\n",
    "    plt.tight_layout(rect = [0, 0.01, 1, 1])\n",
    "\n",
    "    plt.plot(x, y, marker = 'o')\n",
    "    plt.grid(True, alpha = 0.5)\n",
    "    \n",
    "    plt.xlabel(x_label, fontweight = \"bold\", labelpad = 21)\n",
    "    plt.ylabel(y_label, fontweight = \"bold\", labelpad = 22)\n",
    "    plt.title (title  , fontweight = \"bold\", pad = 25)\n",
    "    \n",
    "    ax = plt.gca()\n",
    "    ax.spines['top'].set_visible(False)\n",
    "    ax.spines['right'].set_visible(False)\n",
    "    ax.spines['bottom'].set_visible(True)\n",
    "    ax.spines['left'].set_visible(True)\n",
    "    ax.spines['top'].set_alpha(0.3)\n",
    "    ax.spines['right'].set_alpha(0.3)\n",
    "    ax.spines['bottom'].set_alpha(0.7)\n",
    "    ax.spines['left'].set_alpha(0.7)\n",
    "\n",
    "    plt.savefig(title + '.png', dpi = 10)\n",
    "    plt.show()\n",
    "\n",
    "    print('Plot saved as', title + '.png')"
   ]
  },
  {
   "cell_type": "code",
   "execution_count": null,
   "metadata": {},
   "outputs": [],
   "source": [
    "directory = 'build/root/'\n",
    "csv_name = 'test2.csv'\n",
    "\n",
    "x_branch = \"X_axis\"\n",
    "y_branch = 'Y_axis'\n",
    "\n",
    "title = \"title\"\n",
    "x_label = r\"x axis ($keV$)\"\n",
    "y_label = r\"y axis\"\n",
    "\n",
    "plot_xy(directory, csv_name, x_branch, y_branch, title, x_label, y_label)"
   ]
  },
  {
   "cell_type": "markdown",
   "metadata": {},
   "source": [
    "## Plot CSV Histogram"
   ]
  },
  {
   "cell_type": "code",
   "execution_count": null,
   "metadata": {},
   "outputs": [],
   "source": [
    "import pandas as pd\n",
    "import matplotlib.pyplot as plt\n",
    "import os\n",
    "\n",
    "def histogram(directory, csv_name, data, set_bins, positive, title, x_label, y_label):\n",
    "\n",
    "    csv_file = os.path.join(directory, csv_name)\n",
    "    df = pd.read_csv(csv_file)\n",
    "\n",
    "    points = df[data]\n",
    "    if positive == True:\n",
    "        points = df[df[data] > 0]\n",
    "\n",
    "    plt.figure(figsize=(10, 7))\n",
    "    #plt.tight_layout(rect=[0, 1, 1, 1])\n",
    "\n",
    "    SIZE_DEFAULT = 14\n",
    "    SIZE_LARGE = 20\n",
    "\n",
    "    plt.rc(\"font\", family = 'Century Expanded')  \n",
    "    plt.rc(\"font\", weight = \"normal\")  \n",
    "    plt.rc(\"font\",  size      = SIZE_DEFAULT)  \n",
    "    plt.rc(\"axes\",  titlesize = SIZE_LARGE + 2)  \n",
    "    plt.rc(\"axes\",  labelsize = SIZE_LARGE)  \n",
    "    plt.rc(\"xtick\", labelsize = SIZE_DEFAULT)  \n",
    "    plt.rc(\"ytick\", labelsize = SIZE_DEFAULT)  \n",
    "\n",
    "    plt.hist(points, bins = set_bins, alpha = 1)\n",
    "\n",
    "    plt.title(title, pad = 15)\n",
    "    plt.xlabel(x_label, labelpad = 15)\n",
    "    plt.ylabel(y_label, labelpad = 15)\n",
    "    plt.grid(True)\n",
    "\n",
    "    plt.savefig(title + '.png', dpi = 300)\n",
    "    plt.show()\n",
    "\n",
    "    print('Plot saved as', title + '.png')"
   ]
  },
  {
   "cell_type": "code",
   "execution_count": null,
   "metadata": {},
   "outputs": [],
   "source": [
    "directory = 'build/root/'\n",
    "csv_name = 'test2.csv'\n",
    "\n",
    "data = \"X_axis\"\n",
    "set_bins = 50\n",
    "positive = False\n",
    "\n",
    "title = 'title'\n",
    "x_label = 'x axis (keV)'\n",
    "y_label = 'Frequency'\n",
    "\n",
    "histogram(directory, csv_name, data, set_bins, positive, title, x_label, y_label)"
   ]
  }
 ],
 "metadata": {
  "kernelspec": {
   "display_name": "base",
   "language": "python",
   "name": "python3"
  },
  "language_info": {
   "codemirror_mode": {
    "name": "ipython",
    "version": 3
   },
   "file_extension": ".py",
   "mimetype": "text/x-python",
   "name": "python",
   "nbconvert_exporter": "python",
   "pygments_lexer": "ipython3",
   "version": "3.10.9"
  }
 },
 "nbformat": 4,
 "nbformat_minor": 2
}
